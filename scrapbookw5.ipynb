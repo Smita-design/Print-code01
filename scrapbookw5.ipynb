{
  "nbformat": 4,
  "nbformat_minor": 0,
  "metadata": {
    "colab": {
      "provenance": [],
      "authorship_tag": "ABX9TyMApxIY7vbjpdBWIBgmqsPe",
      "include_colab_link": true
    },
    "kernelspec": {
      "name": "python3",
      "display_name": "Python 3"
    },
    "language_info": {
      "name": "python"
    }
  },
  "cells": [
    {
      "cell_type": "markdown",
      "metadata": {
        "id": "view-in-github",
        "colab_type": "text"
      },
      "source": [
        "<a href=\"https://colab.research.google.com/github/Smita-design/Print-code01/blob/main/scrapbookw5.ipynb\" target=\"_parent\"><img src=\"https://colab.research.google.com/assets/colab-badge.svg\" alt=\"Open In Colab\"/></a>"
      ]
    },
    {
      "cell_type": "code",
      "execution_count": null,
      "metadata": {
        "colab": {
          "base_uri": "https://localhost:8080/",
          "height": 383
        },
        "id": "JLQrpINyckkg",
        "outputId": "77fb2117-c996-49fc-9c6f-0995100b8123"
      },
      "outputs": [
        {
          "output_type": "error",
          "ename": "ModuleNotFoundError",
          "evalue": "No module named 'ColabTurtlePlus'",
          "traceback": [
            "\u001b[0;31m---------------------------------------------------------------------------\u001b[0m",
            "\u001b[0;31mModuleNotFoundError\u001b[0m                       Traceback (most recent call last)",
            "\u001b[0;32m<ipython-input-4-71a1b1456f8b>\u001b[0m in \u001b[0;36m<cell line: 0>\u001b[0;34m()\u001b[0m\n\u001b[1;32m      1\u001b[0m \u001b[0;31m#@title Turtle Demo\u001b[0m\u001b[0;34m\u001b[0m\u001b[0;34m\u001b[0m\u001b[0m\n\u001b[1;32m      2\u001b[0m \u001b[0;31m# Import the module\u001b[0m\u001b[0;34m\u001b[0m\u001b[0;34m\u001b[0m\u001b[0m\n\u001b[0;32m----> 3\u001b[0;31m \u001b[0;32mfrom\u001b[0m \u001b[0mColabTurtlePlus\u001b[0m\u001b[0;34m.\u001b[0m\u001b[0mTurtle\u001b[0m \u001b[0;32mimport\u001b[0m \u001b[0;34m*\u001b[0m\u001b[0;34m\u001b[0m\u001b[0;34m\u001b[0m\u001b[0m\n\u001b[0m\u001b[1;32m      4\u001b[0m \u001b[0;34m\u001b[0m\u001b[0m\n\u001b[1;32m      5\u001b[0m \u001b[0;31m# Setup the drawing environment\u001b[0m\u001b[0;34m\u001b[0m\u001b[0;34m\u001b[0m\u001b[0m\n",
            "\u001b[0;31mModuleNotFoundError\u001b[0m: No module named 'ColabTurtlePlus'",
            "",
            "\u001b[0;31m---------------------------------------------------------------------------\u001b[0;32m\nNOTE: If your import is failing due to a missing package, you can\nmanually install dependencies using either !pip or !apt.\n\nTo view examples of installing some common dependencies, click the\n\"Open Examples\" button below.\n\u001b[0;31m---------------------------------------------------------------------------\u001b[0m\n"
          ],
          "errorDetails": {
            "actions": [
              {
                "action": "open_url",
                "actionText": "Open Examples",
                "url": "/notebooks/snippets/importing_libraries.ipynb"
              }
            ]
          }
        }
      ],
      "source": [
        "#@title Turtle Demo\n",
        "\n",
        "# Import the module\n",
        "from ColabTurtlePlus.Turtle import *\n",
        "import ColabTurtlePlus.Turtle as Turtle\n",
        "# Setup the drawing environment\n",
        "Turtle.clearscreen()\n",
        "Turtle.setup(400, 400)  # Set window size to 400x400 pixels\n",
        "showborder()     # Show a border around the drawing area\n",
        "\n",
        "# Create a new turtle\n",
        "t = Turtle()\n",
        "t.shape(\"turtle\")  # Make it look like a turtle\n",
        "t.speed(6)         # Set drawing speed (1-13)\n",
        "\n",
        "# Draw a simple square\n",
        "for i in range(4):\n",
        "    t.forward(100)\n",
        "    t.right(90)\n",
        "\n",
        "# Display the final result\n",
        "done()\n",
        "\n",
        "# Start fresh for the next activity\n",
        "clearscreen()\n",
        "setup(400, 400)\n",
        "showborder()\n",
        "t = Turtle()\n",
        "t.shape(\"turtle\")\n",
        "t.speed(6)"
      ]
    },
    {
      "cell_type": "code",
      "source": [
        "# Copy the file from GitHub\n",
        "!wget https://github.com/teaching-repositories/ISYS2001-ISYS5002/raw/refs/heads/main/libs/simple_bot-0.1-cp311-cp311-linux_x86_64.whl\n",
        "\n",
        "# Install the file just copied\n",
        "!pip install simple_bot-0.1-cp311-cp311-linux_x86_64.whl"
      ],
      "metadata": {
        "id": "fiWFVfJBddKa",
        "colab": {
          "base_uri": "https://localhost:8080/",
          "height": 0
        },
        "outputId": "439ea58e-6457-4848-feaa-add05aab33dd"
      },
      "execution_count": 5,
      "outputs": [
        {
          "output_type": "stream",
          "name": "stdout",
          "text": [
            "--2025-03-25 09:13:07--  https://github.com/teaching-repositories/ISYS2001-ISYS5002/raw/refs/heads/main/libs/simple_bot-0.1-cp311-cp311-linux_x86_64.whl\n",
            "Resolving github.com (github.com)... 140.82.113.4\n",
            "Connecting to github.com (github.com)|140.82.113.4|:443... connected.\n",
            "HTTP request sent, awaiting response... 302 Found\n",
            "Location: https://raw.githubusercontent.com/teaching-repositories/ISYS2001-ISYS5002/refs/heads/main/libs/simple_bot-0.1-cp311-cp311-linux_x86_64.whl [following]\n",
            "--2025-03-25 09:13:08--  https://raw.githubusercontent.com/teaching-repositories/ISYS2001-ISYS5002/refs/heads/main/libs/simple_bot-0.1-cp311-cp311-linux_x86_64.whl\n",
            "Resolving raw.githubusercontent.com (raw.githubusercontent.com)... 185.199.108.133, 185.199.109.133, 185.199.110.133, ...\n",
            "Connecting to raw.githubusercontent.com (raw.githubusercontent.com)|185.199.108.133|:443... connected.\n",
            "HTTP request sent, awaiting response... 200 OK\n",
            "Length: 127250 (124K) [application/octet-stream]\n",
            "Saving to: ‘simple_bot-0.1-cp311-cp311-linux_x86_64.whl’\n",
            "\n",
            "simple_bot-0.1-cp31 100%[===================>] 124.27K  --.-KB/s    in 0.03s   \n",
            "\n",
            "2025-03-25 09:13:08 (4.45 MB/s) - ‘simple_bot-0.1-cp311-cp311-linux_x86_64.whl’ saved [127250/127250]\n",
            "\n",
            "Processing ./simple_bot-0.1-cp311-cp311-linux_x86_64.whl\n",
            "Requirement already satisfied: requests in /usr/local/lib/python3.11/dist-packages (from simple-bot==0.1) (2.32.3)\n",
            "Requirement already satisfied: charset-normalizer<4,>=2 in /usr/local/lib/python3.11/dist-packages (from requests->simple-bot==0.1) (3.4.1)\n",
            "Requirement already satisfied: idna<4,>=2.5 in /usr/local/lib/python3.11/dist-packages (from requests->simple-bot==0.1) (3.10)\n",
            "Requirement already satisfied: urllib3<3,>=1.21.1 in /usr/local/lib/python3.11/dist-packages (from requests->simple-bot==0.1) (2.3.0)\n",
            "Requirement already satisfied: certifi>=2017.4.17 in /usr/local/lib/python3.11/dist-packages (from requests->simple-bot==0.1) (2025.1.31)\n",
            "Installing collected packages: simple-bot\n",
            "Successfully installed simple-bot-0.1\n"
          ]
        }
      ]
    },
    {
      "cell_type": "code",
      "source": [
        "# Import the simple_bot package that connects to a local Ollama server\n",
        "from simple_bot import get_response\n",
        "\n",
        "# Try it out with a single question\n",
        "question = input(\"Ask the bot something: \")\n",
        "print(\"Bot:\",reply)"
      ],
      "metadata": {
        "colab": {
          "base_uri": "https://localhost:8080/",
          "height": 339
        },
        "id": "xNXjEnx2lDoJ",
        "outputId": "2ce8d2d6-3d72-437a-e719-b27957287287"
      },
      "execution_count": 10,
      "outputs": [
        {
          "output_type": "error",
          "ename": "KeyboardInterrupt",
          "evalue": "Interrupted by user",
          "traceback": [
            "\u001b[0;31m---------------------------------------------------------------------------\u001b[0m",
            "\u001b[0;31mKeyboardInterrupt\u001b[0m                         Traceback (most recent call last)",
            "\u001b[0;32m<ipython-input-10-f789027faa01>\u001b[0m in \u001b[0;36m<cell line: 0>\u001b[0;34m()\u001b[0m\n\u001b[1;32m      3\u001b[0m \u001b[0;34m\u001b[0m\u001b[0m\n\u001b[1;32m      4\u001b[0m \u001b[0;31m# Try it out with a single question\u001b[0m\u001b[0;34m\u001b[0m\u001b[0;34m\u001b[0m\u001b[0m\n\u001b[0;32m----> 5\u001b[0;31m \u001b[0mquestion\u001b[0m \u001b[0;34m=\u001b[0m \u001b[0minput\u001b[0m\u001b[0;34m(\u001b[0m\u001b[0;34m\"Ask the bot something: \"\u001b[0m\u001b[0;34m)\u001b[0m\u001b[0;34m\u001b[0m\u001b[0;34m\u001b[0m\u001b[0m\n\u001b[0m\u001b[1;32m      6\u001b[0m \u001b[0mprint\u001b[0m\u001b[0;34m(\u001b[0m\u001b[0;34m\"Bot:\"\u001b[0m\u001b[0;34m,\u001b[0m\u001b[0mreply\u001b[0m\u001b[0;34m)\u001b[0m\u001b[0;34m\u001b[0m\u001b[0;34m\u001b[0m\u001b[0m\n",
            "\u001b[0;32m/usr/local/lib/python3.11/dist-packages/ipykernel/kernelbase.py\u001b[0m in \u001b[0;36mraw_input\u001b[0;34m(self, prompt)\u001b[0m\n\u001b[1;32m   1175\u001b[0m                 \u001b[0;34m\"raw_input was called, but this frontend does not support input requests.\"\u001b[0m\u001b[0;34m\u001b[0m\u001b[0;34m\u001b[0m\u001b[0m\n\u001b[1;32m   1176\u001b[0m             )\n\u001b[0;32m-> 1177\u001b[0;31m         return self._input_request(\n\u001b[0m\u001b[1;32m   1178\u001b[0m             \u001b[0mstr\u001b[0m\u001b[0;34m(\u001b[0m\u001b[0mprompt\u001b[0m\u001b[0;34m)\u001b[0m\u001b[0;34m,\u001b[0m\u001b[0;34m\u001b[0m\u001b[0;34m\u001b[0m\u001b[0m\n\u001b[1;32m   1179\u001b[0m             \u001b[0mself\u001b[0m\u001b[0;34m.\u001b[0m\u001b[0m_parent_ident\u001b[0m\u001b[0;34m[\u001b[0m\u001b[0;34m\"shell\"\u001b[0m\u001b[0;34m]\u001b[0m\u001b[0;34m,\u001b[0m\u001b[0;34m\u001b[0m\u001b[0;34m\u001b[0m\u001b[0m\n",
            "\u001b[0;32m/usr/local/lib/python3.11/dist-packages/ipykernel/kernelbase.py\u001b[0m in \u001b[0;36m_input_request\u001b[0;34m(self, prompt, ident, parent, password)\u001b[0m\n\u001b[1;32m   1217\u001b[0m             \u001b[0;32mexcept\u001b[0m \u001b[0mKeyboardInterrupt\u001b[0m\u001b[0;34m:\u001b[0m\u001b[0;34m\u001b[0m\u001b[0;34m\u001b[0m\u001b[0m\n\u001b[1;32m   1218\u001b[0m                 \u001b[0;31m# re-raise KeyboardInterrupt, to truncate traceback\u001b[0m\u001b[0;34m\u001b[0m\u001b[0;34m\u001b[0m\u001b[0m\n\u001b[0;32m-> 1219\u001b[0;31m                 \u001b[0;32mraise\u001b[0m \u001b[0mKeyboardInterrupt\u001b[0m\u001b[0;34m(\u001b[0m\u001b[0;34m\"Interrupted by user\"\u001b[0m\u001b[0;34m)\u001b[0m \u001b[0;32mfrom\u001b[0m \u001b[0;32mNone\u001b[0m\u001b[0;34m\u001b[0m\u001b[0;34m\u001b[0m\u001b[0m\n\u001b[0m\u001b[1;32m   1220\u001b[0m             \u001b[0;32mexcept\u001b[0m \u001b[0mException\u001b[0m\u001b[0;34m:\u001b[0m\u001b[0;34m\u001b[0m\u001b[0;34m\u001b[0m\u001b[0m\n\u001b[1;32m   1221\u001b[0m                 \u001b[0mself\u001b[0m\u001b[0;34m.\u001b[0m\u001b[0mlog\u001b[0m\u001b[0;34m.\u001b[0m\u001b[0mwarning\u001b[0m\u001b[0;34m(\u001b[0m\u001b[0;34m\"Invalid Message:\"\u001b[0m\u001b[0;34m,\u001b[0m \u001b[0mexc_info\u001b[0m\u001b[0;34m=\u001b[0m\u001b[0;32mTrue\u001b[0m\u001b[0;34m)\u001b[0m\u001b[0;34m\u001b[0m\u001b[0;34m\u001b[0m\u001b[0m\n",
            "\u001b[0;31mKeyboardInterrupt\u001b[0m: Interrupted by user"
          ]
        }
      ]
    },
    {
      "cell_type": "code",
      "source": [
        "print(\"\\nWelcome to LoopBot! Ask me anything! Type 'bye' to quit.\")\n",
        "\n",
        "# Create a loop that continues until the user says 'bye'\n",
        "while True:\n",
        "    user_input = input(\"You: \")\n",
        "\n",
        "    # Check if the user wants to exit\n",
        "    if user_input.lower() in [\"bye\", \"quit\", \"exit\"]:\n",
        "        print(\"Bot: Goodbye! 👋\")\n",
        "        break  # Exit the loop\n",
        "\n",
        "    # Get and display the bot's response\n",
        "    reply = get_response(user_input)\n",
        "    print(\"Bot:\", reply)\n"
      ],
      "metadata": {
        "colab": {
          "base_uri": "https://localhost:8080/",
          "height": 0
        },
        "id": "h1P7kKEOl6aR",
        "outputId": "5ab90feb-8859-4112-822e-25fef6024a6a"
      },
      "execution_count": 13,
      "outputs": [
        {
          "output_type": "stream",
          "name": "stdout",
          "text": [
            "\n",
            "Welcome to LoopBot! Ask me anything! Type 'bye' to quit.\n",
            "You: bye\n",
            "Bot: Goodbye! 👋\n"
          ]
        }
      ]
    },
    {
      "cell_type": "code",
      "source": [
        "#@title Turtle Demo\n",
        "print(\"\\nWelcome to MemoryBot! I'll try to remember what you say.\")\n",
        "\n",
        "# Create an empty list to store the conversation history\n",
        "memory = []\n",
        "\n",
        "while True:\n",
        "    user_input = input(\"You: \")\n",
        "\n",
        "    # Check if the user wants to exit\n",
        "    if user_input.lower() in [\"bye\", \"quit\", \"exit\"]:\n",
        "        print(\"Bot: Chat ended. I remembered\", len(memory), \"messages. Bye! 👋\")\n",
        "        break\n",
        "\n",
        "    # Add the user's input to our memory list\n",
        "    memory.append(user_input)\n",
        "\n",
        "    # Display the bot's response\n",
        "    response = get_response(user_input)\n",
        "    print(\"Bot:\", response)\n",
        "\n",
        "    # Show the user what's in the bot's memory if they ask\n",
        "    if \"what do you remember\" in user_input.lower():\n",
        "        print(\"Bot memory contains:\")\n",
        "        for i, message in enumerate(memory):\n",
        "            print(f\"  {i+1}. {message}\")"
      ],
      "metadata": {
        "colab": {
          "base_uri": "https://localhost:8080/",
          "height": 0
        },
        "id": "dlhK_pTPmYt7",
        "outputId": "a4e651c6-0c93-4cd7-d95b-e927561f7cf2"
      },
      "execution_count": 14,
      "outputs": [
        {
          "output_type": "stream",
          "name": "stdout",
          "text": [
            "\n",
            "Welcome to MemoryBot! I'll try to remember what you say.\n",
            "You: Hi\n",
            "Bot: Hello! It's nice to meet you. Is there something I can help you with or would you like to chat about something in particular?\n",
            "You: I am trying to learning python\n",
            "Bot: Python is a wonderful language to learn. I'd be happy to help you on your Python journey.\n",
            "\n",
            "What specifically would you like to focus on or achieve with Python? Are you interested in:\n",
            "\n",
            "1. Web development (e.g., Flask, Django)?\n",
            "2. Data analysis and science (e.g., Pandas, NumPy, Matplotlib)?\n",
            "3. Machine learning (e.g., Scikit-learn, TensorFlow)?\n",
            "4. Automation of tasks?\n",
            "5. Something else?\n",
            "\n",
            "Let me know, and I'll do my best to provide you with helpful resources, examples, or exercises to get you started!\n",
            "You: bye\n",
            "Bot: Chat ended. I remembered 2 messages. Bye! 👋\n"
          ]
        }
      ]
    },
    {
      "cell_type": "code",
      "source": [
        "#@title Turtle Demo\n",
        "# Import personality bots from the simple_bot package\n",
        "from simple_bot import get_response, pirate_bot, emoji_bot\n",
        "\n",
        "# Define an additional personality option\n",
        "def formal_bot(message):\n",
        "    return \"I must say, \" + get_response(message) + \" Most certainly.\"\n",
        "\n",
        "# List of available personalities\n",
        "personalities = [\"regular\", \"pirate\", \"emoji\", \"formal\"]\n",
        "current_personality = \"regular\"\n",
        "\n",
        "print(\"\\nMulti-Personality Bot! Type 'personalities' to see options.\")\n",
        "\n",
        "while True:\n",
        "    user_input = input(\"You: \")\n",
        "\n",
        "    if user_input.lower() == \"bye\":\n",
        "        print(\"Bot: Until next time!\")\n",
        "        break\n",
        "    elif user_input.lower() == \"personalities\":\n",
        "        print(\"Available personalities:\", \", \".join(personalities))\n",
        "        print(\"To change, type 'switch to [personality]'\")\n",
        "    elif user_input.lower().startswith(\"switch to \"):\n",
        "        # Extract the requested personality from the user input\n",
        "        requested = user_input.lower().replace(\"switch to \", \"\")\n",
        "        if requested in personalities:\n",
        "            current_personality = requested\n",
        "            print(f\"Bot: Switched to {current_personality} personality!\")\n",
        "        else:\n",
        "            print(\"Bot: I don't know that personality yet.\")\n",
        "    else:\n",
        "        # Respond based on the current personality\n",
        "        if current_personality == \"regular\":\n",
        "            print(\"Bot:\", get_response(user_input))\n",
        "        elif current_personality == \"pirate\":\n",
        "            print(\"PirateBot:\", pirate_bot(user_input))\n",
        "        elif current_personality == \"emoji\":\n",
        "            print(\"EmojiBot:\", emoji_bot(user_input))\n",
        "        elif current_personality == \"formal\":\n",
        "            print(\"FormalBot:\", formal_bot(user_input))"
      ],
      "metadata": {
        "colab": {
          "base_uri": "https://localhost:8080/",
          "height": 0
        },
        "id": "MZOOMm_lnNYe",
        "outputId": "d0032975-6dce-4613-b710-1477557a824a"
      },
      "execution_count": 15,
      "outputs": [
        {
          "output_type": "stream",
          "name": "stdout",
          "text": [
            "\n",
            "Multi-Personality Bot! Type 'personalities' to see options.\n",
            "You: personalities\n",
            "Available personalities: regular, pirate, emoji, formal\n",
            "To change, type 'switch to [personality]'\n",
            "You: switch to pirate\n",
            "Bot: Switched to pirate personality!\n",
            "You: why is the sky blue?\n",
            "PirateBot: Arrr, ye landlubber, ye be askin' why the sky be blue, eh? Well, matey, I'll tell ye it's because o' them tiny little scallywags called molecules! Aye, they be tiny, but they be mighty in their impact on our poor human eyes.\n",
            "\n",
            "Ye see, when sunlight enters our atmosphere, it encounters all manner o' particles and gases. And these scurvy dog molecules, they scatter the light in a peculiar way. They take those long wavelengths o' red and orange light and, like a barrel o' rum, they swab 'em away! Leavin' us with only them shorter blue and violet wavelengths to see.\n",
            "\n",
            "Now, I know what ye be thinkin', \"Pirate, why don't we just see all the colors then?\" Well, matey, it's because our eyes be biased towards those shorter wavelengths. It be like me preferin' a good bottle o' grog over a mug o' bilge water! Our brains be wired to perceive the world in shades o' blue and green, so that be what we see.\n",
            "\n",
            "And there ye have it, me hearty! The sky be blue because o' them pesky little molecules. Now go forth and spread the word, but don't be tellin' anyone I be a landlubber who knows too much about science... or do ye want to make an enemy out o' me?\n",
            "You: switch to emoji\n",
            "Bot: Switched to emoji personality!\n",
            "You: why is the sky blue\n",
            "EmojiBot: 🌊💙️🔵️💡 It's a long story 📚 but basically 👉️: shorter wavelengths 🎯= blue light ✨, longer wavelengths 🔜 = red light 🔥! Atmosphere 🌐 scatters ✨ those short blue waves 🏃‍♂️ more than others 🤔 making our sky 🌊 appear BLUE 💙️! 👀\n",
            "You: bye\n",
            "Bot: Until next time!\n"
          ]
        }
      ]
    },
    {
      "cell_type": "code",
      "source": [
        "# Example of creating a custom bot personality with a system prompt\n",
        "def wise_old_dragon(prompt):\n",
        "    return get_response(prompt, system=\"You are a wise old dragon who answers questions in riddles and ancient wisdom.\")\n",
        "    question = input (\"Ask the wise old dragon something:\")\n",
        "\n",
        "print(\"Dragon:\", wise_old_dragon(question))"
      ],
      "metadata": {
        "colab": {
          "base_uri": "https://localhost:8080/"
        },
        "id": "EgSLvZ3Zn_XB",
        "outputId": "7af4c628-5651-4023-bbc7-3e78859eb0a2"
      },
      "execution_count": 22,
      "outputs": [
        {
          "output_type": "stream",
          "name": "stdout",
          "text": [
            "Dragon: Young one, the sky's hue is not as it seems,\n",
            "For blue is but a veil that shrouds the dreams.\n",
            "'Tis not the heavens' true color, I do swear,\n",
            "But rather the whispers of the sun's gentle care.\n",
            "\n",
            "The solar fires that dance upon the earth,\n",
            "Burn bright with fervor, and their warmth gives birth\n",
            "To particles that rise, like misty veils,\n",
            "And scatter blue, a hue that our eyes hail.\n",
            "\n",
            "Yet, beneath this azure canvas so serene,\n",
            "Lies mystery and wonder, waiting to be seen.\n",
            "For in the sky's blue depths, secrets are kept,\n",
            "Of cosmic rhythms, and the whispers that they sleep.\n"
          ]
        }
      ]
    }
  ]
}