{
  "nbformat": 4,
  "nbformat_minor": 0,
  "metadata": {
    "colab": {
      "provenance": [],
      "authorship_tag": "ABX9TyNkapSSC/n2bdEyLe+2PV+0",
      "include_colab_link": true
    },
    "kernelspec": {
      "name": "python3",
      "display_name": "Python 3"
    },
    "language_info": {
      "name": "python"
    }
  },
  "cells": [
    {
      "cell_type": "markdown",
      "metadata": {
        "id": "view-in-github",
        "colab_type": "text"
      },
      "source": [
        "<a href=\"https://colab.research.google.com/github/Smita-design/Print-code01/blob/main/EXAMPE_FOLDER/week4_scrapbook.ipynb\" target=\"_parent\"><img src=\"https://colab.research.google.com/assets/colab-badge.svg\" alt=\"Open In Colab\"/></a>"
      ]
    },
    {
      "cell_type": "code",
      "execution_count": 14,
      "metadata": {
        "id": "BffbslwMUUv9",
        "outputId": "9280e8c5-791d-45e2-b14b-a113e883b5aa",
        "colab": {
          "base_uri": "https://localhost:8080/"
        }
      },
      "outputs": [
        {
          "output_type": "stream",
          "name": "stdout",
          "text": [
            "It's chilly!\n",
            "I hope you have a jumper!\n"
          ]
        }
      ],
      "source": [
        "temperature = 20\n",
        "if temperature <= 20:\n",
        "    print(\"It's chilly!\")\n",
        "    print(\"I hope you have a jumper!\")\n",
        "else:\n",
        "  print(\"It's warm!\")"
      ]
    },
    {
      "cell_type": "code",
      "source": [
        "temperature = input(\"What is the temperature today?\")\n",
        "temperature = float(temperature)\n",
        "is_it_raining = input(\"Is it raining? \")\n",
        "is_it_raining = is_it_raining.lower()\n",
        "if temperature <= 20:\n",
        "    print(\"It's chilly!\")\n",
        "    if is_it_raining == \"yes\":\n",
        "      print(\"take an umbrella!\")\n",
        "    print(\"I hope you have a jumper!\")\n",
        "else:\n",
        "  print(\"It's warm!\")"
      ],
      "metadata": {
        "id": "non-eSjIYhAq",
        "outputId": "0973ec8e-7015-4a61-eeb1-8ea33dd2fa1b",
        "colab": {
          "base_uri": "https://localhost:8080/"
        }
      },
      "execution_count": 26,
      "outputs": [
        {
          "output_type": "stream",
          "name": "stdout",
          "text": [
            "What is the temperature today?18\n",
            "Is it raining? yeS\n",
            "It's chilly!\n",
            "take an umbrella!\n",
            "I hope you have a jumper!\n"
          ]
        }
      ]
    }
  ]
}